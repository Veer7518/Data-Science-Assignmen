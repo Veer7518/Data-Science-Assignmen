{
 "cells": [
  {
   "cell_type": "markdown",
   "id": "52e8f959-8f4a-4e37-abd8-a63b267a1f42",
   "metadata": {},
   "source": [
    "Task 2: Lookalike Model"
   ]
  },
  {
   "cell_type": "markdown",
   "id": "ebc18687-8054-4d73-b1a6-0ee66a1a2d65",
   "metadata": {},
   "source": [
    "1. Importing Required Libraries"
   ]
  },
  {
   "cell_type": "code",
   "execution_count": 7,
   "id": "4f80ee4f-ec50-48b2-82de-f3b962425baf",
   "metadata": {},
   "outputs": [],
   "source": [
    "import pandas as pd\n",
    "from sklearn.metrics.pairwise import cosine_similarity\n",
    "from sklearn.preprocessing import MinMaxScaler\n"
   ]
  },
  {
   "cell_type": "markdown",
   "id": "346ecc5f-8433-4f3a-91ed-eea11174b269",
   "metadata": {},
   "source": [
    "2. Loading Datasets"
   ]
  },
  {
   "cell_type": "code",
   "execution_count": 8,
   "id": "7dc12933-d443-454c-bad1-e2cb257e5903",
   "metadata": {},
   "outputs": [],
   "source": [
    "# Load datasets\n",
    "customers = pd.read_csv(\"Customers.csv\")\n",
    "products = pd.read_csv(\"Products.csv\")\n",
    "transactions = pd.read_csv(\"Transactions.csv\")\n"
   ]
  },
  {
   "cell_type": "markdown",
   "id": "c5abd5e8-23f9-41b5-8545-ca45c6d695fe",
   "metadata": {},
   "source": [
    "3. Merging the Datasets"
   ]
  },
  {
   "cell_type": "code",
   "execution_count": 9,
   "id": "367adf04-6510-48fa-a009-d27dbdaf33d0",
   "metadata": {},
   "outputs": [],
   "source": [
    "# Merge datasets\n",
    "merged_data = transactions.merge(products, on=\"ProductID\").merge(customers, on=\"CustomerID\")\n"
   ]
  },
  {
   "cell_type": "markdown",
   "id": "a2689360-9330-4e2f-aee5-bda945c8cbfe",
   "metadata": {},
   "source": [
    "4. Feature Engineering"
   ]
  },
  {
   "cell_type": "code",
   "execution_count": null,
   "id": "8ce8fd3b-2988-4f44-9435-d46529c76312",
   "metadata": {},
   "outputs": [],
   "source": [
    "# Feature engineering\n",
    "customer_features = merged_data.groupby(\"CustomerID\").agg({\n",
    "    \"TotalValue\": \"sum\",                # Total spend\n",
    "    \"Quantity\": \"sum\",                  # Total quantity purchased\n",
    "    \"Price_x\": \"mean\",                  # Average product price\n",
    "    \"TransactionDate\": \"count\"          # Transaction count\n",
    "}).rename(columns={\n",
    "    \"TotalValue\": \"Total_Spend\",\n",
    "    \"Quantity\": \"Total_Quantity\",\n",
    "    \"Price_x\": \"Avg_Product_Price\",\n",
    "    \"TransactionDate\": \"Transaction_Count\"\n",
    "})\n"
   ]
  },
  {
   "cell_type": "markdown",
   "id": "0a0e5389-2ff1-49ef-aaf1-28dac2dd4b52",
   "metadata": {},
   "source": [
    "5. Adding Customer Demographics"
   ]
  },
  {
   "cell_type": "code",
   "execution_count": 10,
   "id": "482c031e-7a54-4b99-aaf0-5a16b7312c3e",
   "metadata": {},
   "outputs": [],
   "source": [
    "# Add customer demographics\n",
    "customer_features = customer_features.merge(customers[[\"CustomerID\", \"Region\", \"SignupDate\"]], on=\"CustomerID\")\n"
   ]
  },
  {
   "cell_type": "markdown",
   "id": "0e45127b-17ed-4ff2-bab7-83f74d8e00a8",
   "metadata": {},
   "source": [
    "6. Converting Signup Date to Numerical (Days Since Signup)\n",
    "\n"
   ]
  },
  {
   "cell_type": "code",
   "execution_count": 11,
   "id": "6f79d98d-5e21-45d9-b371-4f371b7466ae",
   "metadata": {},
   "outputs": [],
   "source": [
    "# Convert signup date to numerical (days since signup)\n",
    "customer_features[\"SignupDate\"] = pd.to_datetime(customer_features[\"SignupDate\"])\n",
    "customer_features[\"Days_Since_Signup\"] = (pd.Timestamp.now() - customer_features[\"SignupDate\"]).dt.days\n",
    "customer_features.drop(columns=[\"SignupDate\"], inplace=True)\n"
   ]
  },
  {
   "cell_type": "markdown",
   "id": "c8aaf330-d35d-4c04-888d-4499c5475daa",
   "metadata": {},
   "source": [
    "7. One-Hot Encoding Categorical Data"
   ]
  },
  {
   "cell_type": "code",
   "execution_count": 12,
   "id": "8a3fa128-1da8-45ce-b3ee-483972e6e3af",
   "metadata": {},
   "outputs": [],
   "source": [
    "# One-hot encode categorical data (e.g., Region)\n",
    "customer_features = pd.get_dummies(customer_features, columns=[\"Region\"])\n"
   ]
  },
  {
   "cell_type": "markdown",
   "id": "35cebccd-5918-4a10-85c3-01aba893c54d",
   "metadata": {},
   "source": [
    "8. Normalizing Numerical Features"
   ]
  },
  {
   "cell_type": "code",
   "execution_count": 13,
   "id": "8e5018b9-6be9-4be8-8843-09bf33b9f43d",
   "metadata": {},
   "outputs": [],
   "source": [
    "# Normalize numerical features\n",
    "scaler = MinMaxScaler()\n",
    "numerical_cols = [\"Total_Spend\", \"Total_Quantity\", \"Avg_Product_Price\", \"Transaction_Count\", \"Days_Since_Signup\"]\n",
    "customer_features[numerical_cols] = scaler.fit_transform(customer_features[numerical_cols])\n"
   ]
  },
  {
   "cell_type": "markdown",
   "id": "63f557cd-64ba-4d95-a1cc-ef375d1342e2",
   "metadata": {},
   "source": [
    "9. Computing Similarity Matrix"
   ]
  },
  {
   "cell_type": "code",
   "execution_count": 14,
   "id": "c1c0e365-2d87-494f-ae45-69ab7ce72bce",
   "metadata": {},
   "outputs": [],
   "source": [
    "# Compute similarity matrix\n",
    "customer_ids = customer_features[\"CustomerID\"]\n",
    "feature_matrix = customer_features.drop(columns=[\"CustomerID\"])\n",
    "similarity_matrix = cosine_similarity(feature_matrix)\n"
   ]
  },
  {
   "cell_type": "markdown",
   "id": "92292674-a25e-47ca-8fa8-32e4d3d6a958",
   "metadata": {},
   "source": [
    "10. Generating Lookalike Recommendations"
   ]
  },
  {
   "cell_type": "code",
   "execution_count": 15,
   "id": "40b86f91-7543-4d16-8db8-f008224f8ba4",
   "metadata": {},
   "outputs": [],
   "source": [
    "# Generate lookalike recommendations for first 20 customers\n",
    "lookalikes = {}\n",
    "for idx, customer_id in enumerate(customer_ids[:20]):  # First 20 customers only\n",
    "    similarity_scores = list(enumerate(similarity_matrix[idx]))\n",
    "    similarity_scores = sorted(similarity_scores, key=lambda x: x[1], reverse=True)  # Sort by similarity\n",
    "    top_lookalikes = [(customer_ids[i], round(score, 3)) for i, score in similarity_scores if customer_ids[i] != customer_id][:3]\n",
    "    lookalikes[customer_id] = top_lookalikes\n"
   ]
  },
  {
   "cell_type": "markdown",
   "id": "cd6c8b95-e1e1-4f20-853c-452d35f12ee8",
   "metadata": {},
   "source": [
    "11. Saving Lookalike Recommendations to CSV"
   ]
  },
  {
   "cell_type": "code",
   "execution_count": 16,
   "id": "ad5a282a-f298-461c-8a4e-e1f9de66e9d0",
   "metadata": {},
   "outputs": [
    {
     "name": "stdout",
     "output_type": "stream",
     "text": [
      "Lookalike recommendations saved to 'Lookalike.csv'\n"
     ]
    }
   ],
   "source": [
    "# Create Lookalike.csv\n",
    "lookalike_df = pd.DataFrame({\n",
    "    \"CustomerID\": lookalikes.keys(),\n",
    "    \"Lookalike_Customers\": [str(val) for val in lookalikes.values()]\n",
    "})\n",
    "lookalike_df.to_csv(\"Lookalike.csv\", index=False)\n",
    "\n",
    "print(\"Lookalike recommendations saved to 'Lookalike.csv'\")\n"
   ]
  },
  {
   "cell_type": "code",
   "execution_count": null,
   "id": "0e3d7959-4d8c-4fef-add2-da3ecddac74f",
   "metadata": {},
   "outputs": [],
   "source": []
  }
 ],
 "metadata": {
  "kernelspec": {
   "display_name": "Python 3 (ipykernel)",
   "language": "python",
   "name": "python3"
  },
  "language_info": {
   "codemirror_mode": {
    "name": "ipython",
    "version": 3
   },
   "file_extension": ".py",
   "mimetype": "text/x-python",
   "name": "python",
   "nbconvert_exporter": "python",
   "pygments_lexer": "ipython3",
   "version": "3.13.1"
  }
 },
 "nbformat": 4,
 "nbformat_minor": 5
}
